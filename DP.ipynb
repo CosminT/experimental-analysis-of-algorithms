{
 "cells": [
  {
   "cell_type": "code",
   "execution_count": null,
   "metadata": {},
   "outputs": [],
   "source": [
    "from parser import Parser\n",
    "import matplotlib.pyplot as plt\n",
    "import numpy as np"
   ]
  },
  {
   "cell_type": "code",
   "execution_count": null,
   "metadata": {},
   "outputs": [],
   "source": [
    "p = Parser(\"data/pcbouman-eur-TSP-D-Instances-8a6d795/uniform/uniform-10-n5.txt\",\n",
    "\"data/pcbouman-eur-TSP-D-Instances-8a6d795/uniform/solutions/uniform-10-n5-DP.txt\")\n",
    "\n",
    "p.get_input_data()\n"
   ]
  },
  {
   "cell_type": "code",
   "execution_count": null,
   "metadata": {},
   "outputs": [],
   "source": [
    "p.X"
   ]
  },
  {
   "cell_type": "code",
   "execution_count": null,
   "metadata": {},
   "outputs": [],
   "source": [
    "p.loc"
   ]
  },
  {
   "cell_type": "code",
   "execution_count": null,
   "metadata": {},
   "outputs": [],
   "source": [
    "points=np.array([p.X,p.Y])\n",
    "points = points.T\n",
    "points"
   ]
  },
  {
   "cell_type": "code",
   "execution_count": null,
   "metadata": {},
   "outputs": [],
   "source": [
    "p.speed_of_truck"
   ]
  },
  {
   "cell_type": "code",
   "execution_count": null,
   "metadata": {},
   "outputs": [],
   "source": [
    "p.speed_of_drone"
   ]
  },
  {
   "cell_type": "code",
   "execution_count": null,
   "metadata": {},
   "outputs": [],
   "source": [
    "truck_dist =[]\n",
    "for el in points:\n",
    "    d = np.linalg.norm(el - points, axis=1)\n",
    "    truck_dist.append(d.tolist())"
   ]
  },
  {
   "cell_type": "code",
   "execution_count": null,
   "metadata": {},
   "outputs": [],
   "source": [
    "drone_dist = []\n",
    "for el in points:\n",
    "    d = np.linalg.norm(el - points, axis=1) * p.speed_of_drone\n",
    "    drone_dist.append(d.tolist())"
   ]
  },
  {
   "cell_type": "code",
   "execution_count": null,
   "metadata": {},
   "outputs": [],
   "source": [
    "import itertools"
   ]
  },
  {
   "cell_type": "code",
   "execution_count": null,
   "metadata": {},
   "outputs": [],
   "source": [
    "def solve_tsp_dynamic(cities, distance):\n",
    "    cities_a = {(frozenset([0, idx + 1]), idx + 1): (dist, [0, idx + 1]) for idx, dist in enumerate(distance[0][1:])}\n",
    "    print(cities_a)\n",
    "    for m in range(2, len(cities)):\n",
    "        cities_b = {}\n",
    "        for cities_set in [frozenset(C) | {0} for C in itertools.combinations(range(1, len(cities)), m)]:\n",
    "            # print(cities_set)\n",
    "            for j in cities_set - {0}:\n",
    "                cities_b[(cities_set, j)] = min(\n",
    "                    [\n",
    "                        (\n",
    "                            cities_a[(cities_set - {j}, k)][0] + distance[k][j],\n",
    "                            cities_a[(cities_set - {j}, k)][1] + [j]\n",
    "                        ) \n",
    "                        for k in cities_set if k != 0 and k != j\n",
    "                    ]\n",
    "                )\n",
    "                # print(cities_b[(cities_set, j)])\n",
    "        cities_a = cities_b\n",
    "        print(\"\\n\", cities_a)\n",
    "    res = min([(cities_a[d][0] + distance[0][d[1]], cities_a[d][1]) for d in iter(cities_a)])\n",
    "    return res[1]\n",
    "solve_tsp_dynamic(points.tolist(),truck_dist)"
   ]
  },
  {
   "cell_type": "code",
   "execution_count": null,
   "metadata": {},
   "outputs": [],
   "source": [
    "plt.plot(p.X, p.Y, 'o')\n",
    "\n",
    "\n",
    "for i, txt in enumerate(p.loc):\n",
    "    plt.annotate(txt, (p.X[i], p.Y[i]))"
   ]
  }
 ],
 "metadata": {
  "interpreter": {
   "hash": "aee8b7b246df8f9039afb4144a1f6fd8d2ca17a180786b69acc140d282b71a49"
  },
  "kernelspec": {
   "display_name": "Python 3.9.7 64-bit",
   "language": "python",
   "name": "python3"
  },
  "language_info": {
   "codemirror_mode": {
    "name": "ipython",
    "version": 3
   },
   "file_extension": ".py",
   "mimetype": "text/x-python",
   "name": "python",
   "nbconvert_exporter": "python",
   "pygments_lexer": "ipython3",
   "version": "3.9.7"
  },
  "orig_nbformat": 4
 },
 "nbformat": 4,
 "nbformat_minor": 2
}
